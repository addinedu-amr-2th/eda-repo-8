{
 "cells": [
  {
   "cell_type": "code",
   "execution_count": 8,
   "id": "189f2d06",
   "metadata": {},
   "outputs": [],
   "source": [
    "import numpy as np\n",
    "import pandas as pd\n",
    "import matplotlib.pyplot as plt\n",
    "%matplotlib inline\n",
    "plt.rc('font', family = \"NanumGothic\")\n",
    "import seaborn as sns"
   ]
  },
  {
   "cell_type": "code",
   "execution_count": 11,
   "id": "7c37a0d9",
   "metadata": {},
   "outputs": [],
   "source": [
    "corona=pd.read_csv(\"corona.csv\", encoding='cp949')"
   ]
  },
  {
   "cell_type": "code",
   "execution_count": 12,
   "id": "bc5c25a5",
   "metadata": {},
   "outputs": [
    {
     "data": {
      "text/html": [
       "<div>\n",
       "<style scoped>\n",
       "    .dataframe tbody tr th:only-of-type {\n",
       "        vertical-align: middle;\n",
       "    }\n",
       "\n",
       "    .dataframe tbody tr th {\n",
       "        vertical-align: top;\n",
       "    }\n",
       "\n",
       "    .dataframe thead th {\n",
       "        text-align: right;\n",
       "    }\n",
       "</style>\n",
       "<table border=\"1\" class=\"dataframe\">\n",
       "  <thead>\n",
       "    <tr style=\"text-align: right;\">\n",
       "      <th></th>\n",
       "      <th>서울시 기준일</th>\n",
       "      <th>서울시 확진자</th>\n",
       "      <th>서울시 추가 확진</th>\n",
       "      <th>서울시 치료중</th>\n",
       "      <th>서울시 퇴원</th>\n",
       "      <th>서울시 추가 퇴원</th>\n",
       "      <th>서울시 사망</th>\n",
       "      <th>서울시 의심환자 전체</th>\n",
       "      <th>서울시 의심환자 검사중</th>\n",
       "      <th>서울시 의심환자 검사결과(음성)</th>\n",
       "      <th>...</th>\n",
       "      <th>전국 의심환자 전체</th>\n",
       "      <th>전국 의심환자 검사중</th>\n",
       "      <th>전국 의심환자 검사결과(음성)</th>\n",
       "      <th>자가격리자 해외입국자 감시중</th>\n",
       "      <th>자가격리자 해외입국자 감시해제</th>\n",
       "      <th>자가격리자 접촉자 감시중</th>\n",
       "      <th>자가격리자 접촉자 감시해제</th>\n",
       "      <th>확인중 확진자</th>\n",
       "      <th>서울시 당일사망자</th>\n",
       "      <th>전국 당일 사망자</th>\n",
       "    </tr>\n",
       "  </thead>\n",
       "  <tbody>\n",
       "    <tr>\n",
       "      <th>0</th>\n",
       "      <td>2023.02.12.00</td>\n",
       "      <td>5894036</td>\n",
       "      <td>2126</td>\n",
       "      <td>0</td>\n",
       "      <td>NaN</td>\n",
       "      <td>NaN</td>\n",
       "      <td>6300</td>\n",
       "      <td>NaN</td>\n",
       "      <td>NaN</td>\n",
       "      <td>NaN</td>\n",
       "      <td>...</td>\n",
       "      <td>NaN</td>\n",
       "      <td>NaN</td>\n",
       "      <td>NaN</td>\n",
       "      <td>NaN</td>\n",
       "      <td>NaN</td>\n",
       "      <td>NaN</td>\n",
       "      <td>NaN</td>\n",
       "      <td>0.0</td>\n",
       "      <td>3.0</td>\n",
       "      <td>23.0</td>\n",
       "    </tr>\n",
       "    <tr>\n",
       "      <th>1</th>\n",
       "      <td>2023.02.11.00</td>\n",
       "      <td>5891954</td>\n",
       "      <td>2292</td>\n",
       "      <td>0</td>\n",
       "      <td>NaN</td>\n",
       "      <td>NaN</td>\n",
       "      <td>6297</td>\n",
       "      <td>NaN</td>\n",
       "      <td>NaN</td>\n",
       "      <td>NaN</td>\n",
       "      <td>...</td>\n",
       "      <td>NaN</td>\n",
       "      <td>NaN</td>\n",
       "      <td>NaN</td>\n",
       "      <td>NaN</td>\n",
       "      <td>NaN</td>\n",
       "      <td>NaN</td>\n",
       "      <td>NaN</td>\n",
       "      <td>0.0</td>\n",
       "      <td>2.0</td>\n",
       "      <td>16.0</td>\n",
       "    </tr>\n",
       "    <tr>\n",
       "      <th>2</th>\n",
       "      <td>2023.02.10.00</td>\n",
       "      <td>5889662</td>\n",
       "      <td>2370</td>\n",
       "      <td>0</td>\n",
       "      <td>NaN</td>\n",
       "      <td>NaN</td>\n",
       "      <td>6295</td>\n",
       "      <td>NaN</td>\n",
       "      <td>NaN</td>\n",
       "      <td>NaN</td>\n",
       "      <td>...</td>\n",
       "      <td>NaN</td>\n",
       "      <td>NaN</td>\n",
       "      <td>NaN</td>\n",
       "      <td>NaN</td>\n",
       "      <td>NaN</td>\n",
       "      <td>NaN</td>\n",
       "      <td>NaN</td>\n",
       "      <td>0.0</td>\n",
       "      <td>2.0</td>\n",
       "      <td>17.0</td>\n",
       "    </tr>\n",
       "    <tr>\n",
       "      <th>3</th>\n",
       "      <td>2023.02.09.00</td>\n",
       "      <td>5887292</td>\n",
       "      <td>2460</td>\n",
       "      <td>0</td>\n",
       "      <td>NaN</td>\n",
       "      <td>NaN</td>\n",
       "      <td>6293</td>\n",
       "      <td>NaN</td>\n",
       "      <td>NaN</td>\n",
       "      <td>NaN</td>\n",
       "      <td>...</td>\n",
       "      <td>NaN</td>\n",
       "      <td>NaN</td>\n",
       "      <td>NaN</td>\n",
       "      <td>NaN</td>\n",
       "      <td>NaN</td>\n",
       "      <td>NaN</td>\n",
       "      <td>NaN</td>\n",
       "      <td>0.0</td>\n",
       "      <td>8.0</td>\n",
       "      <td>34.0</td>\n",
       "    </tr>\n",
       "    <tr>\n",
       "      <th>4</th>\n",
       "      <td>2023.02.08.00</td>\n",
       "      <td>5884832</td>\n",
       "      <td>2904</td>\n",
       "      <td>0</td>\n",
       "      <td>NaN</td>\n",
       "      <td>NaN</td>\n",
       "      <td>6285</td>\n",
       "      <td>NaN</td>\n",
       "      <td>NaN</td>\n",
       "      <td>NaN</td>\n",
       "      <td>...</td>\n",
       "      <td>NaN</td>\n",
       "      <td>NaN</td>\n",
       "      <td>NaN</td>\n",
       "      <td>NaN</td>\n",
       "      <td>NaN</td>\n",
       "      <td>NaN</td>\n",
       "      <td>NaN</td>\n",
       "      <td>0.0</td>\n",
       "      <td>4.0</td>\n",
       "      <td>22.0</td>\n",
       "    </tr>\n",
       "  </tbody>\n",
       "</table>\n",
       "<p>5 rows × 26 columns</p>\n",
       "</div>"
      ],
      "text/plain": [
       "         서울시 기준일  서울시 확진자  서울시 추가 확진  서울시 치료중  서울시 퇴원  서울시 추가 퇴원  서울시 사망  \\\n",
       "0  2023.02.12.00  5894036       2126        0     NaN        NaN    6300   \n",
       "1  2023.02.11.00  5891954       2292        0     NaN        NaN    6297   \n",
       "2  2023.02.10.00  5889662       2370        0     NaN        NaN    6295   \n",
       "3  2023.02.09.00  5887292       2460        0     NaN        NaN    6293   \n",
       "4  2023.02.08.00  5884832       2904        0     NaN        NaN    6285   \n",
       "\n",
       "   서울시 의심환자 전체  서울시 의심환자 검사중  서울시 의심환자 검사결과(음성)  ... 전국 의심환자 전체  전국 의심환자 검사중  \\\n",
       "0          NaN           NaN                NaN  ...        NaN          NaN   \n",
       "1          NaN           NaN                NaN  ...        NaN          NaN   \n",
       "2          NaN           NaN                NaN  ...        NaN          NaN   \n",
       "3          NaN           NaN                NaN  ...        NaN          NaN   \n",
       "4          NaN           NaN                NaN  ...        NaN          NaN   \n",
       "\n",
       "   전국 의심환자 검사결과(음성)  자가격리자 해외입국자 감시중  자가격리자 해외입국자 감시해제  자가격리자 접촉자 감시중  \\\n",
       "0               NaN              NaN               NaN            NaN   \n",
       "1               NaN              NaN               NaN            NaN   \n",
       "2               NaN              NaN               NaN            NaN   \n",
       "3               NaN              NaN               NaN            NaN   \n",
       "4               NaN              NaN               NaN            NaN   \n",
       "\n",
       "   자가격리자 접촉자 감시해제  확인중 확진자  서울시 당일사망자  전국 당일 사망자  \n",
       "0             NaN      0.0        3.0       23.0  \n",
       "1             NaN      0.0        2.0       16.0  \n",
       "2             NaN      0.0        2.0       17.0  \n",
       "3             NaN      0.0        8.0       34.0  \n",
       "4             NaN      0.0        4.0       22.0  \n",
       "\n",
       "[5 rows x 26 columns]"
      ]
     },
     "execution_count": 12,
     "metadata": {},
     "output_type": "execute_result"
    }
   ],
   "source": [
    "corona.head()"
   ]
  },
  {
   "cell_type": "code",
   "execution_count": 13,
   "id": "7365b7a1",
   "metadata": {},
   "outputs": [
    {
     "name": "stdout",
     "output_type": "stream",
     "text": [
      "<class 'pandas.core.frame.DataFrame'>\n",
      "RangeIndex: 1105 entries, 0 to 1104\n",
      "Data columns (total 26 columns):\n",
      " #   Column             Non-Null Count  Dtype  \n",
      "---  ------             --------------  -----  \n",
      " 0   서울시 기준일            1105 non-null   object \n",
      " 1   서울시 확진자            1105 non-null   int64  \n",
      " 2   서울시 추가 확진          1105 non-null   int64  \n",
      " 3   서울시 치료중            1105 non-null   int64  \n",
      " 4   서울시 퇴원             771 non-null    float64\n",
      " 5   서울시 추가 퇴원          771 non-null    float64\n",
      " 6   서울시 사망             1105 non-null   int64  \n",
      " 7   서울시 의심환자 전체        187 non-null    float64\n",
      " 8   서울시 의심환자 검사중       188 non-null    float64\n",
      " 9   서울시 의심환자 검사결과(음성)  188 non-null    float64\n",
      " 10  전국 기준일             1105 non-null   object \n",
      " 11  전국 확진              1105 non-null   float64\n",
      " 12  전국 추가 확진           1105 non-null   int64  \n",
      " 13  전국 치료중             1105 non-null   int64  \n",
      " 14  전국 퇴원              771 non-null    float64\n",
      " 15  전국 사망              1105 non-null   int64  \n",
      " 16  전국 의심환자 전체         187 non-null    float64\n",
      " 17  전국 의심환자 검사중        188 non-null    float64\n",
      " 18  전국 의심환자 검사결과(음성)   188 non-null    float64\n",
      " 19  자가격리자 해외입국자 감시중    188 non-null    float64\n",
      " 20  자가격리자 해외입국자 감시해제   188 non-null    float64\n",
      " 21  자가격리자 접촉자 감시중      188 non-null    float64\n",
      " 22  자가격리자 접촉자 감시해제     188 non-null    float64\n",
      " 23  확인중 확진자            1093 non-null   float64\n",
      " 24  서울시 당일사망자          350 non-null    float64\n",
      " 25  전국 당일 사망자          350 non-null    float64\n",
      "dtypes: float64(17), int64(7), object(2)\n",
      "memory usage: 224.6+ KB\n"
     ]
    }
   ],
   "source": [
    "corona.info()"
   ]
  },
  {
   "cell_type": "code",
   "execution_count": 15,
   "id": "0a3c93e4",
   "metadata": {
    "scrolled": true
   },
   "outputs": [
    {
     "data": {
      "text/plain": [
       "0       2023.02.12.00\n",
       "1       2023.02.11.00\n",
       "2       2023.02.10.00\n",
       "3       2023.02.09.00\n",
       "4       2023.02.08.00\n",
       "            ...      \n",
       "1100      20.02.09.18\n",
       "1101      20.02.08.18\n",
       "1102      20.02.07.18\n",
       "1103      20.02.06.09\n",
       "1104      20.02.05.15\n",
       "Name: 서울시 기준일, Length: 1105, dtype: object"
      ]
     },
     "execution_count": 15,
     "metadata": {},
     "output_type": "execute_result"
    }
   ],
   "source": [
    "corona['서울시 기준일']"
   ]
  },
  {
   "cell_type": "code",
   "execution_count": 97,
   "id": "42fdb6e1",
   "metadata": {},
   "outputs": [
    {
     "data": {
      "text/plain": [
       "0       6300\n",
       "1       6297\n",
       "2       6295\n",
       "3       6293\n",
       "4       6285\n",
       "        ... \n",
       "1100       0\n",
       "1101       0\n",
       "1102       0\n",
       "1103       0\n",
       "1104       0\n",
       "Name: 서울시 사망, Length: 1105, dtype: int64"
      ]
     },
     "execution_count": 97,
     "metadata": {},
     "output_type": "execute_result"
    }
   ],
   "source": [
    "corona['서울시 사망']"
   ]
  },
  {
   "cell_type": "code",
   "execution_count": 68,
   "id": "0f7eef66",
   "metadata": {},
   "outputs": [],
   "source": [
    "year = []\n",
    "month = []\n",
    "\n",
    "for data in corona['서울시 기준일']:\n",
    "    month.append(data.split('.')[1])\n",
    "    year.append(data.split('.')[0])"
   ]
  },
  {
   "cell_type": "code",
   "execution_count": 47,
   "id": "d8c030bd",
   "metadata": {},
   "outputs": [
    {
     "name": "stdout",
     "output_type": "stream",
     "text": [
      "0       02\n",
      "1       02\n",
      "2       02\n",
      "3       02\n",
      "4       02\n",
      "        ..\n",
      "1100    02\n",
      "1101    02\n",
      "1102    02\n",
      "1103    02\n",
      "1104    02\n",
      "Name: month, Length: 1105, dtype: object\n"
     ]
    }
   ],
   "source": [
    "corona['month']=month\n",
    "corona['서울시 ']\n",
    "corona['month'].astype('int64')\n",
    "\n",
    "print(corona['month'])"
   ]
  },
  {
   "cell_type": "code",
   "execution_count": 98,
   "id": "04c9a7b6",
   "metadata": {},
   "outputs": [
    {
     "name": "stderr",
     "output_type": "stream",
     "text": [
      "/home/jh/venv/test_venv/lib/python3.8/site-packages/seaborn/algorithms.py:98: RuntimeWarning: Mean of empty slice\n",
      "  boot_dist.append(f(*sample, **func_kwargs))\n",
      "/home/jh/venv/test_venv/lib/python3.8/site-packages/numpy/lib/nanfunctions.py:1556: RuntimeWarning: All-NaN slice encountered\n",
      "  return function_base._ureduce(a,\n",
      "/home/jh/venv/test_venv/lib/python3.8/site-packages/seaborn/algorithms.py:98: RuntimeWarning: Mean of empty slice\n",
      "  boot_dist.append(f(*sample, **func_kwargs))\n",
      "/home/jh/venv/test_venv/lib/python3.8/site-packages/numpy/lib/nanfunctions.py:1556: RuntimeWarning: All-NaN slice encountered\n",
      "  return function_base._ureduce(a,\n",
      "/home/jh/venv/test_venv/lib/python3.8/site-packages/seaborn/algorithms.py:98: RuntimeWarning: Mean of empty slice\n",
      "  boot_dist.append(f(*sample, **func_kwargs))\n",
      "/home/jh/venv/test_venv/lib/python3.8/site-packages/numpy/lib/nanfunctions.py:1556: RuntimeWarning: All-NaN slice encountered\n",
      "  return function_base._ureduce(a,\n"
     ]
    },
    {
     "data": {
      "text/plain": [
       "<AxesSubplot: xlabel='year', ylabel='서울시 당일사망자'>"
      ]
     },
     "execution_count": 98,
     "metadata": {},
     "output_type": "execute_result"
    },
    {
     "name": "stderr",
     "output_type": "stream",
     "text": [
      "/home/jh/venv/test_venv/lib/python3.8/site-packages/IPython/core/events.py:89: UserWarning: Glyph 49436 (\\N{HANGUL SYLLABLE SEO}) missing from current font.\n",
      "  func(*args, **kwargs)\n",
      "/home/jh/venv/test_venv/lib/python3.8/site-packages/IPython/core/events.py:89: UserWarning: Glyph 50872 (\\N{HANGUL SYLLABLE UL}) missing from current font.\n",
      "  func(*args, **kwargs)\n",
      "/home/jh/venv/test_venv/lib/python3.8/site-packages/IPython/core/events.py:89: UserWarning: Glyph 49884 (\\N{HANGUL SYLLABLE SI}) missing from current font.\n",
      "  func(*args, **kwargs)\n",
      "/home/jh/venv/test_venv/lib/python3.8/site-packages/IPython/core/events.py:89: UserWarning: Glyph 45817 (\\N{HANGUL SYLLABLE DANG}) missing from current font.\n",
      "  func(*args, **kwargs)\n",
      "/home/jh/venv/test_venv/lib/python3.8/site-packages/IPython/core/events.py:89: UserWarning: Glyph 51068 (\\N{HANGUL SYLLABLE IL}) missing from current font.\n",
      "  func(*args, **kwargs)\n",
      "/home/jh/venv/test_venv/lib/python3.8/site-packages/IPython/core/events.py:89: UserWarning: Glyph 49324 (\\N{HANGUL SYLLABLE SA}) missing from current font.\n",
      "  func(*args, **kwargs)\n",
      "/home/jh/venv/test_venv/lib/python3.8/site-packages/IPython/core/events.py:89: UserWarning: Glyph 47581 (\\N{HANGUL SYLLABLE MANG}) missing from current font.\n",
      "  func(*args, **kwargs)\n",
      "/home/jh/venv/test_venv/lib/python3.8/site-packages/IPython/core/events.py:89: UserWarning: Glyph 51088 (\\N{HANGUL SYLLABLE JA}) missing from current font.\n",
      "  func(*args, **kwargs)\n",
      "/home/jh/venv/test_venv/lib/python3.8/site-packages/IPython/core/pylabtools.py:152: UserWarning: Glyph 49436 (\\N{HANGUL SYLLABLE SEO}) missing from current font.\n",
      "  fig.canvas.print_figure(bytes_io, **kw)\n",
      "/home/jh/venv/test_venv/lib/python3.8/site-packages/IPython/core/pylabtools.py:152: UserWarning: Glyph 50872 (\\N{HANGUL SYLLABLE UL}) missing from current font.\n",
      "  fig.canvas.print_figure(bytes_io, **kw)\n",
      "/home/jh/venv/test_venv/lib/python3.8/site-packages/IPython/core/pylabtools.py:152: UserWarning: Glyph 49884 (\\N{HANGUL SYLLABLE SI}) missing from current font.\n",
      "  fig.canvas.print_figure(bytes_io, **kw)\n",
      "/home/jh/venv/test_venv/lib/python3.8/site-packages/IPython/core/pylabtools.py:152: UserWarning: Glyph 45817 (\\N{HANGUL SYLLABLE DANG}) missing from current font.\n",
      "  fig.canvas.print_figure(bytes_io, **kw)\n",
      "/home/jh/venv/test_venv/lib/python3.8/site-packages/IPython/core/pylabtools.py:152: UserWarning: Glyph 51068 (\\N{HANGUL SYLLABLE IL}) missing from current font.\n",
      "  fig.canvas.print_figure(bytes_io, **kw)\n",
      "/home/jh/venv/test_venv/lib/python3.8/site-packages/IPython/core/pylabtools.py:152: UserWarning: Glyph 49324 (\\N{HANGUL SYLLABLE SA}) missing from current font.\n",
      "  fig.canvas.print_figure(bytes_io, **kw)\n",
      "/home/jh/venv/test_venv/lib/python3.8/site-packages/IPython/core/pylabtools.py:152: UserWarning: Glyph 47581 (\\N{HANGUL SYLLABLE MANG}) missing from current font.\n",
      "  fig.canvas.print_figure(bytes_io, **kw)\n",
      "/home/jh/venv/test_venv/lib/python3.8/site-packages/IPython/core/pylabtools.py:152: UserWarning: Glyph 51088 (\\N{HANGUL SYLLABLE JA}) missing from current font.\n",
      "  fig.canvas.print_figure(bytes_io, **kw)\n"
     ]
    },
    {
     "data": {
      "image/png": "[encoded data removed]",
      "text/plain": [
       "<Figure size 2000x1000 with 1 Axes>"
      ]
     },
     "metadata": {},
     "output_type": "display_data"
    }
   ],
   "source": [
    "plt.figure(figsize=(20,10))\n",
    "sns.set(style='darkgrid')\n",
    "sns.barplot(x='year', y='서울시 당일사망자', data=corona, palette='rocket_r')"
   ]
  },
  {
   "cell_type": "code",
   "execution_count": 106,
   "id": "ff0d583c",
   "metadata": {},
   "outputs": [
    {
     "data": {
      "text/plain": [
       "<AxesSubplot: xlabel='month', ylabel='서울시 확진자'>"
      ]
     },
     "execution_count": 106,
     "metadata": {},
     "output_type": "execute_result"
    },
    {
     "name": "stderr",
     "output_type": "stream",
     "text": [
      "/home/jh/venv/test_venv/lib/python3.8/site-packages/IPython/core/events.py:89: UserWarning: Glyph 49436 (\\N{HANGUL SYLLABLE SEO}) missing from current font.\n",
      "  func(*args, **kwargs)\n",
      "/home/jh/venv/test_venv/lib/python3.8/site-packages/IPython/core/events.py:89: UserWarning: Glyph 50872 (\\N{HANGUL SYLLABLE UL}) missing from current font.\n",
      "  func(*args, **kwargs)\n",
      "/home/jh/venv/test_venv/lib/python3.8/site-packages/IPython/core/events.py:89: UserWarning: Glyph 49884 (\\N{HANGUL SYLLABLE SI}) missing from current font.\n",
      "  func(*args, **kwargs)\n",
      "/home/jh/venv/test_venv/lib/python3.8/site-packages/IPython/core/events.py:89: UserWarning: Glyph 54869 (\\N{HANGUL SYLLABLE HWAG}) missing from current font.\n",
      "  func(*args, **kwargs)\n",
      "/home/jh/venv/test_venv/lib/python3.8/site-packages/IPython/core/events.py:89: UserWarning: Glyph 51652 (\\N{HANGUL SYLLABLE JIN}) missing from current font.\n",
      "  func(*args, **kwargs)\n",
      "/home/jh/venv/test_venv/lib/python3.8/site-packages/IPython/core/events.py:89: UserWarning: Glyph 51088 (\\N{HANGUL SYLLABLE JA}) missing from current font.\n",
      "  func(*args, **kwargs)\n",
      "/home/jh/venv/test_venv/lib/python3.8/site-packages/IPython/core/pylabtools.py:152: UserWarning: Glyph 49436 (\\N{HANGUL SYLLABLE SEO}) missing from current font.\n",
      "  fig.canvas.print_figure(bytes_io, **kw)\n",
      "/home/jh/venv/test_venv/lib/python3.8/site-packages/IPython/core/pylabtools.py:152: UserWarning: Glyph 50872 (\\N{HANGUL SYLLABLE UL}) missing from current font.\n",
      "  fig.canvas.print_figure(bytes_io, **kw)\n",
      "/home/jh/venv/test_venv/lib/python3.8/site-packages/IPython/core/pylabtools.py:152: UserWarning: Glyph 49884 (\\N{HANGUL SYLLABLE SI}) missing from current font.\n",
      "  fig.canvas.print_figure(bytes_io, **kw)\n",
      "/home/jh/venv/test_venv/lib/python3.8/site-packages/IPython/core/pylabtools.py:152: UserWarning: Glyph 54869 (\\N{HANGUL SYLLABLE HWAG}) missing from current font.\n",
      "  fig.canvas.print_figure(bytes_io, **kw)\n",
      "/home/jh/venv/test_venv/lib/python3.8/site-packages/IPython/core/pylabtools.py:152: UserWarning: Glyph 51652 (\\N{HANGUL SYLLABLE JIN}) missing from current font.\n",
      "  fig.canvas.print_figure(bytes_io, **kw)\n",
      "/home/jh/venv/test_venv/lib/python3.8/site-packages/IPython/core/pylabtools.py:152: UserWarning: Glyph 51088 (\\N{HANGUL SYLLABLE JA}) missing from current font.\n",
      "  fig.canvas.print_figure(bytes_io, **kw)\n"
     ]
    },
    {
     "data": {
      "image/png": "[encoded data removed]",
      "text/plain": [
       "<Figure size 2000x1000 with 1 Axes>"
      ]
     },
     "metadata": {},
     "output_type": "display_data"
    }
   ],
   "source": [
    "plt.figure(figsize=(20,10))\n",
    "sns.set(style='darkgrid')\n",
    "sns.barplot(x='month', y='서울시 확진자', data=corona, palette='rocket_r')"
   ]
  },
  {
   "cell_type": "code",
   "execution_count": 99,
   "id": "e860a0df",
   "metadata": {
    "scrolled": false
   },
   "outputs": [
    {
     "name": "stderr",
     "output_type": "stream",
     "text": [
      "/home/jh/venv/test_venv/lib/python3.8/site-packages/IPython/core/events.py:89: UserWarning: Glyph 49436 (\\N{HANGUL SYLLABLE SEO}) missing from current font.\n",
      "  func(*args, **kwargs)\n",
      "/home/jh/venv/test_venv/lib/python3.8/site-packages/IPython/core/events.py:89: UserWarning: Glyph 50872 (\\N{HANGUL SYLLABLE UL}) missing from current font.\n",
      "  func(*args, **kwargs)\n",
      "/home/jh/venv/test_venv/lib/python3.8/site-packages/IPython/core/events.py:89: UserWarning: Glyph 49884 (\\N{HANGUL SYLLABLE SI}) missing from current font.\n",
      "  func(*args, **kwargs)\n",
      "/home/jh/venv/test_venv/lib/python3.8/site-packages/IPython/core/events.py:89: UserWarning: Glyph 45817 (\\N{HANGUL SYLLABLE DANG}) missing from current font.\n",
      "  func(*args, **kwargs)\n",
      "/home/jh/venv/test_venv/lib/python3.8/site-packages/IPython/core/events.py:89: UserWarning: Glyph 51068 (\\N{HANGUL SYLLABLE IL}) missing from current font.\n",
      "  func(*args, **kwargs)\n",
      "/home/jh/venv/test_venv/lib/python3.8/site-packages/IPython/core/events.py:89: UserWarning: Glyph 49324 (\\N{HANGUL SYLLABLE SA}) missing from current font.\n",
      "  func(*args, **kwargs)\n",
      "/home/jh/venv/test_venv/lib/python3.8/site-packages/IPython/core/events.py:89: UserWarning: Glyph 47581 (\\N{HANGUL SYLLABLE MANG}) missing from current font.\n",
      "  func(*args, **kwargs)\n",
      "/home/jh/venv/test_venv/lib/python3.8/site-packages/IPython/core/events.py:89: UserWarning: Glyph 51088 (\\N{HANGUL SYLLABLE JA}) missing from current font.\n",
      "  func(*args, **kwargs)\n",
      "/home/jh/venv/test_venv/lib/python3.8/site-packages/IPython/core/pylabtools.py:152: UserWarning: Glyph 49436 (\\N{HANGUL SYLLABLE SEO}) missing from current font.\n",
      "  fig.canvas.print_figure(bytes_io, **kw)\n",
      "/home/jh/venv/test_venv/lib/python3.8/site-packages/IPython/core/pylabtools.py:152: UserWarning: Glyph 50872 (\\N{HANGUL SYLLABLE UL}) missing from current font.\n",
      "  fig.canvas.print_figure(bytes_io, **kw)\n",
      "/home/jh/venv/test_venv/lib/python3.8/site-packages/IPython/core/pylabtools.py:152: UserWarning: Glyph 49884 (\\N{HANGUL SYLLABLE SI}) missing from current font.\n",
      "  fig.canvas.print_figure(bytes_io, **kw)\n",
      "/home/jh/venv/test_venv/lib/python3.8/site-packages/IPython/core/pylabtools.py:152: UserWarning: Glyph 45817 (\\N{HANGUL SYLLABLE DANG}) missing from current font.\n",
      "  fig.canvas.print_figure(bytes_io, **kw)\n",
      "/home/jh/venv/test_venv/lib/python3.8/site-packages/IPython/core/pylabtools.py:152: UserWarning: Glyph 51068 (\\N{HANGUL SYLLABLE IL}) missing from current font.\n",
      "  fig.canvas.print_figure(bytes_io, **kw)\n",
      "/home/jh/venv/test_venv/lib/python3.8/site-packages/IPython/core/pylabtools.py:152: UserWarning: Glyph 49324 (\\N{HANGUL SYLLABLE SA}) missing from current font.\n",
      "  fig.canvas.print_figure(bytes_io, **kw)\n",
      "/home/jh/venv/test_venv/lib/python3.8/site-packages/IPython/core/pylabtools.py:152: UserWarning: Glyph 47581 (\\N{HANGUL SYLLABLE MANG}) missing from current font.\n",
      "  fig.canvas.print_figure(bytes_io, **kw)\n",
      "/home/jh/venv/test_venv/lib/python3.8/site-packages/IPython/core/pylabtools.py:152: UserWarning: Glyph 51088 (\\N{HANGUL SYLLABLE JA}) missing from current font.\n",
      "  fig.canvas.print_figure(bytes_io, **kw)\n"
     ]
    },
    {
     "data": {
      "image/png": "[encoded data removed]",
      "text/plain": [
       "<Figure size 2000x1000 with 1 Axes>"
      ]
     },
     "metadata": {},
     "output_type": "display_data"
    }
   ],
   "source": [
    "plt.figure(figsize=(20,10));\n",
    "sns.set(style='darkgrid');\n",
    "sns.barplot(x='month', y='서울시 당일사망자', data=corona, palette='rocket_r');"
   ]
  },
  {
   "cell_type": "code",
   "execution_count": 104,
   "id": "6d41f2c2",
   "metadata": {},
   "outputs": [
    {
     "name": "stdout",
     "output_type": "stream",
     "text": [
      "1.0\n"
     ]
    }
   ],
   "source": [
    "ans = corona[corona['month']=='03']['서울시 당일사망자'].count()/31\n",
    "print(ans)"
   ]
  },
  {
   "cell_type": "code",
   "execution_count": null,
   "id": "08dcf107",
   "metadata": {},
   "outputs": [],
   "source": []
  }
 ],
 "metadata": {
  "kernelspec": {
   "display_name": "Python 3 (ipykernel)",
   "language": "python",
   "name": "python3"
  },
  "language_info": {
   "codemirror_mode": {
    "name": "ipython",
    "version": 3
   },
   "file_extension": ".py",
   "mimetype": "text/x-python",
   "name": "python",
   "nbconvert_exporter": "python",
   "pygments_lexer": "ipython3",
   "version": "3.8.10"
  }
 },
 "nbformat": 4,
 "nbformat_minor": 5
}
